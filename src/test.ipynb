{
 "cells": [
  {
   "cell_type": "code",
   "execution_count": null,
   "metadata": {},
   "outputs": [],
   "source": [
    "import pandas as pd\n",
    "import requests\n",
    "import os\n",
    "from datetime import datetime\n",
    "\n",
    "FRED_API_KEY = os.getenv('FRED_API_KEY')\n",
    "BASE_URL = 'https://api.stlouisfed.org/fred'\n",
    "\n",
    "series_list = ['CPIAUCSL', 'CPILFESL', 'CPIUFDSL', 'CPIHOSSL', \n",
    "                'CUSR0000SETB01', 'PCEPI', 'PCEPILFE', \n",
    "                'DPCERD3A086NBEA', 'GASREGW', 'DCOILWTICO']\n",
    "\n",
    "series_id = 'CPIAUCSL'"
   ]
  },
  {
   "cell_type": "code",
   "execution_count": null,
   "metadata": {},
   "outputs": [],
   "source": [
    "# 1. 시계열 데이터 다운로드\n",
    "obs_url = f'{BASE_URL}/series/observations'\n",
    "obs_params = {\n",
    "    'api_key': FRED_API_KEY,\n",
    "    'file_type': 'json',\n",
    "    'series_id': series_id,\n",
    "    'observation_start': start_date,\n",
    "    'observation_end': datetime.now().strftime('%Y-%m-%d')\n",
    "}\n",
    "obs_data = requests.get(obs_url, params=obs_params).json()\n",
    "obs_df = pd.DataFrame(obs_data['observations'])\n",
    "obs_df = obs_df[obs_df['value'] != '.']\n",
    "obs_df['date'] = pd.to_datetime(obs_df['date'])\n",
    "obs_df['value'] = pd.to_numeric(obs_df['value'])"
   ]
  },
  {
   "cell_type": "code",
   "execution_count": null,
   "metadata": {},
   "outputs": [],
   "source": [
    "    # 2. release_id 추출 및 release_dates 수집\n",
    "    release_url = f'{BASE_URL}/series/release'\n",
    "    release_params = {'api_key': FRED_API_KEY, 'file_type': 'json', 'series_id': series_id}\n",
    "    release_id = requests.get(release_url, params=release_params).json()['releases'][0]['id']\n",
    "    rel_url = f'{BASE_URL}/release/dates'\n",
    "    rel_params = {'api_key': FRED_API_KEY, 'file_type': 'json', 'release_id': release_id}\n",
    "    rel_data = requests.get(rel_url, params=rel_params).json()['release_dates']\n",
    "    rel_df = pd.DataFrame(rel_data)\n",
    "    rel_df['release_date'] = pd.to_datetime(rel_df['date'])\n",
    "    rel_df = rel_df.sort_values('release_date')"
   ]
  },
  {
   "cell_type": "code",
   "execution_count": null,
   "metadata": {},
   "outputs": [],
   "source": [
    "if __name__ == \"__main__\":\n",
    "\n",
    "    \n",
    "    final_df = pd.DataFrame()\n",
    "    for series in series_list:\n",
    "        print(f\"Processing {series}...\")\n",
    "        df = download_fred_series(series)\n",
    "        if final_df.empty:\n",
    "            final_df = df\n",
    "        else:\n",
    "            final_df = final_df.join(df, how='outer')\n",
    "    \n",
    "    final_df.index.name = 'date'\n",
    "    final_df.to_csv('../data/fred_data.csv')\n",
    "    print(final_df.tail())"
   ]
  }
 ],
 "metadata": {
  "kernelspec": {
   "display_name": ".venv",
   "language": "python",
   "name": "python3"
  },
  "language_info": {
   "codemirror_mode": {
    "name": "ipython",
    "version": 3
   },
   "file_extension": ".py",
   "mimetype": "text/x-python",
   "name": "python",
   "nbconvert_exporter": "python",
   "pygments_lexer": "ipython3",
   "version": "3.11.9"
  }
 },
 "nbformat": 4,
 "nbformat_minor": 2
}
